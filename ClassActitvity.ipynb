{
 "cells": [
  {
   "cell_type": "code",
   "execution_count": 1,
   "metadata": {},
   "outputs": [
    {
     "name": "stdout",
     "output_type": "stream",
     "text": [
      "Hello WORLD\n"
     ]
    }
   ],
   "source": [
    "#function definition\n",
    "\n",
    "def greet():\n",
    "    print(\"Hello WORLD\")\n",
    "    \n",
    "greet() #function calling\n",
    "\n"
   ]
  },
  {
   "cell_type": "code",
   "execution_count": 2,
   "metadata": {},
   "outputs": [
    {
     "name": "stdout",
     "output_type": "stream",
     "text": [
      "enter value 2\n",
      "enter value 3\n",
      "5\n"
     ]
    }
   ],
   "source": [
    "def add(a,b):\n",
    "#     a=2\n",
    "#     b=3\n",
    "    sum=a+b\n",
    "    print(sum)\n",
    "    \n",
    "    \n",
    "num1=int(input(\"enter value \"))\n",
    "num2=int(input(\"enter value \"))\n",
    "\n",
    "add(num1,num2)"
   ]
  },
  {
   "cell_type": "code",
   "execution_count": 3,
   "metadata": {},
   "outputs": [
    {
     "name": "stdout",
     "output_type": "stream",
     "text": [
      "enter value 4\n",
      "enter value 1\n",
      "3\n"
     ]
    }
   ],
   "source": [
    "def sub(a,b):\n",
    "#     a=2\n",
    "#     b=3\n",
    "    result=a-b\n",
    "    print(result)\n",
    "    \n",
    "    \n",
    "num1=int(input(\"enter value \"))\n",
    "num2=int(input(\"enter value \"))\n",
    "\n",
    "sub(num1,num2)"
   ]
  },
  {
   "cell_type": "code",
   "execution_count": 4,
   "metadata": {},
   "outputs": [
    {
     "name": "stdout",
     "output_type": "stream",
     "text": [
      "enter value 4\n",
      "enter value 4\n",
      "16\n"
     ]
    }
   ],
   "source": [
    "def multiply(a,b):\n",
    "#     a=2\n",
    "#     b=3\n",
    "    result=a*b\n",
    "    print(result)\n",
    "    \n",
    "    \n",
    "num1=int(input(\"enter value \"))\n",
    "num2=int(input(\"enter value \"))\n",
    "\n",
    "multiply(num1,num2)"
   ]
  },
  {
   "cell_type": "code",
   "execution_count": 5,
   "metadata": {},
   "outputs": [
    {
     "name": "stdout",
     "output_type": "stream",
     "text": [
      "enter value 16\n",
      "enter value 4\n",
      "4.0\n"
     ]
    }
   ],
   "source": [
    "def divide(a,b):\n",
    "#     a=2\n",
    "#     b=3\n",
    "    result=a/b\n",
    "    print(result)\n",
    "    \n",
    "    \n",
    "num1=int(input(\"enter value \"))\n",
    "num2=int(input(\"enter value \"))\n",
    "\n",
    "divide(num1,num2)"
   ]
  },
  {
   "cell_type": "code",
   "execution_count": 13,
   "metadata": {},
   "outputs": [
    {
     "name": "stdout",
     "output_type": "stream",
     "text": [
      "\n",
      "* \n",
      "* * \n",
      "* * * \n",
      "* * * * \n",
      "* * * * * \n"
     ]
    }
   ],
   "source": [
    "for i in range(6):\n",
    "    for j in range(i):\n",
    "        print(\"*\", end= ' ')\n",
    "    print()"
   ]
  },
  {
   "cell_type": "code",
   "execution_count": 21,
   "metadata": {},
   "outputs": [
    {
     "name": "stdout",
     "output_type": "stream",
     "text": [
      "hira is owner of a  cat from  karachi\n"
     ]
    }
   ],
   "source": [
    "#type of parameters\n",
    "# positional\n",
    "# keyword\n",
    "# default\n",
    "\n",
    "def my_pet(owner, pet,city=\"lahore\"):\n",
    "    print(owner,\"is owner of a \",pet,\"from \",city)\n",
    "    \n",
    "my_pet(pet=\"cat\",owner=\"hira\",city=\"karachi\")\n",
    "\n",
    "\n",
    "# types of functions:\n",
    "# takes nothing ret nothing\n",
    "# takes nothing ret something\n",
    "# takes something ret nothing\n",
    "# takes something ret something\n",
    "    \n",
    "    "
   ]
  },
  {
   "cell_type": "code",
   "execution_count": 33,
   "metadata": {},
   "outputs": [
    {
     "name": "stdout",
     "output_type": "stream",
     "text": [
      "enter value 1\n",
      "1  is odd number\n"
     ]
    }
   ],
   "source": [
    "def check(a): #even or odd\n",
    "    choice=a%2\n",
    "    flag=2\n",
    "    \n",
    "    if(choice==0):\n",
    "#        print(a,\" is even number\")\n",
    "        flag=0\n",
    "        return flag\n",
    "    elif (choice!=0):\n",
    "#         print(a,\" is odd number\")\n",
    "        flag=1\n",
    "        return flag\n",
    "\n",
    "num1=int(input(\"enter value \"))\n",
    "\n",
    "result=check(num1)\n",
    "if(result==0):\n",
    "    print(num1,\" is even number\")\n",
    "else:\n",
    "    print(num1,\" is odd number\")"
   ]
  },
  {
   "cell_type": "code",
   "execution_count": null,
   "metadata": {},
   "outputs": [],
   "source": []
  }
 ],
 "metadata": {
  "kernelspec": {
   "display_name": "Python 3",
   "language": "python",
   "name": "python3"
  },
  "language_info": {
   "codemirror_mode": {
    "name": "ipython",
    "version": 3
   },
   "file_extension": ".py",
   "mimetype": "text/x-python",
   "name": "python",
   "nbconvert_exporter": "python",
   "pygments_lexer": "ipython3",
   "version": "3.7.3"
  }
 },
 "nbformat": 4,
 "nbformat_minor": 2
}
